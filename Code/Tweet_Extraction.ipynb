{
  "nbformat": 4,
  "nbformat_minor": 0,
  "metadata": {
    "colab": {
      "provenance": [],
      "collapsed_sections": []
    },
    "kernelspec": {
      "name": "python3",
      "display_name": "Python 3"
    },
    "language_info": {
      "name": "python"
    }
  },
  "cells": [
    {
      "cell_type": "code",
      "execution_count": 2,
      "metadata": {
        "colab": {
          "base_uri": "https://localhost:8080/"
        },
        "id": "d7mTz2LU6Dh-",
        "outputId": "18eb33f2-4d72-4b2e-85a7-0ae8a811a94a"
      },
      "outputs": [
        {
          "output_type": "stream",
          "name": "stdout",
          "text": [
            "Mounted at /content/drive\n"
          ]
        }
      ],
      "source": [
        "from google.colab import drive\n",
        "drive.mount('/content/drive')"
      ]
    },
    {
      "cell_type": "code",
      "source": [
        " import os\n",
        " os.chdir(\"/content/drive/MyDrive/Colab Notebooks/DBSE Project\")"
      ],
      "metadata": {
        "id": "-lvyjw6u6N6g"
      },
      "execution_count": 3,
      "outputs": []
    },
    {
      "cell_type": "code",
      "source": [
        "pip install python-dotenv"
      ],
      "metadata": {
        "colab": {
          "base_uri": "https://localhost:8080/"
        },
        "id": "8apIFSqL794p",
        "outputId": "5cb315f4-11f4-4ba5-dbbb-637af7ea5213"
      },
      "execution_count": 4,
      "outputs": [
        {
          "output_type": "stream",
          "name": "stdout",
          "text": [
            "Looking in indexes: https://pypi.org/simple, https://us-python.pkg.dev/colab-wheels/public/simple/\n",
            "Collecting python-dotenv\n",
            "  Downloading python_dotenv-0.21.0-py3-none-any.whl (18 kB)\n",
            "Installing collected packages: python-dotenv\n",
            "Successfully installed python-dotenv-0.21.0\n"
          ]
        }
      ]
    },
    {
      "cell_type": "code",
      "source": [
        "pip install git+https://github.com/tweepy/tweepy.git"
      ],
      "metadata": {
        "colab": {
          "base_uri": "https://localhost:8080/"
        },
        "id": "iBBUfO5P_6d5",
        "outputId": "4e78b515-9a0f-4d9a-af95-a3a49e4d5625"
      },
      "execution_count": 5,
      "outputs": [
        {
          "output_type": "stream",
          "name": "stdout",
          "text": [
            "Looking in indexes: https://pypi.org/simple, https://us-python.pkg.dev/colab-wheels/public/simple/\n",
            "Collecting git+https://github.com/tweepy/tweepy.git\n",
            "  Cloning https://github.com/tweepy/tweepy.git to /tmp/pip-req-build-da_pepbb\n",
            "  Running command git clone -q https://github.com/tweepy/tweepy.git /tmp/pip-req-build-da_pepbb\n",
            "Requirement already satisfied: oauthlib<4,>=3.2.0 in /usr/local/lib/python3.7/dist-packages (from tweepy==4.12.0) (3.2.2)\n",
            "Collecting requests<3,>=2.27.0\n",
            "  Downloading requests-2.28.1-py3-none-any.whl (62 kB)\n",
            "\u001b[K     |████████████████████████████████| 62 kB 912 kB/s \n",
            "\u001b[?25hRequirement already satisfied: requests-oauthlib<2,>=1.2.0 in /usr/local/lib/python3.7/dist-packages (from tweepy==4.12.0) (1.3.1)\n",
            "Requirement already satisfied: charset-normalizer<3,>=2 in /usr/local/lib/python3.7/dist-packages (from requests<3,>=2.27.0->tweepy==4.12.0) (2.1.1)\n",
            "Requirement already satisfied: certifi>=2017.4.17 in /usr/local/lib/python3.7/dist-packages (from requests<3,>=2.27.0->tweepy==4.12.0) (2022.9.24)\n",
            "Requirement already satisfied: idna<4,>=2.5 in /usr/local/lib/python3.7/dist-packages (from requests<3,>=2.27.0->tweepy==4.12.0) (2.10)\n",
            "Requirement already satisfied: urllib3<1.27,>=1.21.1 in /usr/local/lib/python3.7/dist-packages (from requests<3,>=2.27.0->tweepy==4.12.0) (1.24.3)\n",
            "Building wheels for collected packages: tweepy\n",
            "  Building wheel for tweepy (setup.py) ... \u001b[?25l\u001b[?25hdone\n",
            "  Created wheel for tweepy: filename=tweepy-4.12.0-py3-none-any.whl size=101665 sha256=f96812434cbcb4c4b64e6bcae00e446b694ea2d4cf6c768327ed0a1736df2aea\n",
            "  Stored in directory: /tmp/pip-ephem-wheel-cache-v2dqi1ty/wheels/b4/a5/5a/5074abdb9f4bd5bd0e22631a63fc41ae2fa71ad83780ea18d1\n",
            "Successfully built tweepy\n",
            "Installing collected packages: requests, tweepy\n",
            "  Attempting uninstall: requests\n",
            "    Found existing installation: requests 2.23.0\n",
            "    Uninstalling requests-2.23.0:\n",
            "      Successfully uninstalled requests-2.23.0\n",
            "  Attempting uninstall: tweepy\n",
            "    Found existing installation: tweepy 3.10.0\n",
            "    Uninstalling tweepy-3.10.0:\n",
            "      Successfully uninstalled tweepy-3.10.0\n",
            "Successfully installed requests-2.28.1 tweepy-4.12.0\n"
          ]
        }
      ]
    },
    {
      "cell_type": "code",
      "source": [
        "pip install snscrape"
      ],
      "metadata": {
        "colab": {
          "base_uri": "https://localhost:8080/"
        },
        "id": "SUj8_CaFhDtp",
        "outputId": "3cd275c3-8105-4a39-ad0c-e11a1995b005"
      },
      "execution_count": 14,
      "outputs": [
        {
          "output_type": "stream",
          "name": "stdout",
          "text": [
            "Looking in indexes: https://pypi.org/simple, https://us-python.pkg.dev/colab-wheels/public/simple/\n",
            "Collecting snscrape\n",
            "  Downloading snscrape-0.3.4-py3-none-any.whl (35 kB)\n",
            "Requirement already satisfied: lxml in /usr/local/lib/python3.7/dist-packages (from snscrape) (4.9.1)\n",
            "Requirement already satisfied: beautifulsoup4 in /usr/local/lib/python3.7/dist-packages (from snscrape) (4.6.3)\n",
            "Requirement already satisfied: requests[socks] in /usr/local/lib/python3.7/dist-packages (from snscrape) (2.28.1)\n",
            "Requirement already satisfied: certifi>=2017.4.17 in /usr/local/lib/python3.7/dist-packages (from requests[socks]->snscrape) (2022.9.24)\n",
            "Requirement already satisfied: charset-normalizer<3,>=2 in /usr/local/lib/python3.7/dist-packages (from requests[socks]->snscrape) (2.1.1)\n",
            "Requirement already satisfied: urllib3<1.27,>=1.21.1 in /usr/local/lib/python3.7/dist-packages (from requests[socks]->snscrape) (1.24.3)\n",
            "Requirement already satisfied: idna<4,>=2.5 in /usr/local/lib/python3.7/dist-packages (from requests[socks]->snscrape) (2.10)\n",
            "Requirement already satisfied: PySocks!=1.5.7,>=1.5.6 in /usr/local/lib/python3.7/dist-packages (from requests[socks]->snscrape) (1.7.1)\n",
            "Installing collected packages: snscrape\n",
            "Successfully installed snscrape-0.3.4\n"
          ]
        }
      ]
    },
    {
      "cell_type": "code",
      "source": [
        "import pandas as pd\n",
        "import numpy as np\n",
        "import tweepy\n",
        "import os\n",
        "from dotenv import load_dotenv\n",
        "import csv\n",
        "import time\n",
        "import snscrape.modules.twitter as sntwitter"
      ],
      "metadata": {
        "id": "B0WqA7ji8pHV"
      },
      "execution_count": 15,
      "outputs": []
    },
    {
      "cell_type": "code",
      "source": [
        "#Fetching required Keys\n",
        "load_dotenv()\n",
        "\n",
        "consumer_key = os.environ[\"API_KEY\"]\n",
        "consumer_secret = os.environ[\"API_KEY_SECRET\"]\n",
        "access_token = os.environ[\"ACCESS_TOKEN\"]\n",
        "access_token_secret = os.environ[\"ACCESS_TOKEN_SECRET\"]\n",
        "bearer_token = os.environ['BEARER_TOKEN']"
      ],
      "metadata": {
        "id": "dZz85jJ76nnT"
      },
      "execution_count": 7,
      "outputs": []
    },
    {
      "cell_type": "code",
      "source": [
        "auth = tweepy.OAuthHandler(consumer_key, consumer_secret)\n",
        "auth.set_access_token(access_token, access_token_secret)\n",
        "api = tweepy.API(auth)\n",
        "\n",
        "# You can authenticate as your app with just your bearer token\n",
        "client = tweepy.Client(bearer_token=bearer_token)\n",
        "client = tweepy.Client(\n",
        "    consumer_key=consumer_key, consumer_secret=consumer_secret,\n",
        "    access_token=access_token, access_token_secret=access_token_secret, \n",
        "    bearer_token=bearer_token\n",
        ")"
      ],
      "metadata": {
        "id": "cuvaeL1c83ty"
      },
      "execution_count": 8,
      "outputs": []
    },
    {
      "cell_type": "code",
      "source": [
        "query = \"(from:#IchBinHanna) until:2022-10-30 since:2021-07-01\"\n",
        "tweets = []\n",
        "limit = 1000\n",
        "for tweet in sntwitter.TwitterSearchScraper(query).get_items():\n",
        "    if len(tweets) == limit:\n",
        "        break\n",
        "    else:\n",
        "        tweets.append([tweet.id, tweet.date, tweet.username, tweet.content,\n",
        "                       tweet.url])\n",
        "\n",
        "tweet_data=[]\n",
        "result=[]\n",
        "for data in tweets:\n",
        "  get_tweets = client.get_tweets(ids=data[0], tweet_fields=['context_annotations','created_at','geo'], expansions='author_id')\n",
        "  tweet_data=[data[0], data[1], data[2], data[3],data[4]]\n",
        "  for tweet1 in get_tweets.includes['users']:\n",
        "    users = client.get_users(ids=tweet1.id, user_fields=['username','public_metrics','description', 'location', 'profile_image_url'])\n",
        "    for user in users.data:\n",
        "      result.append({'Tweet_id': tweet_data[0],\n",
        "                     'Tweet_date':tweet_data[1],\n",
        "                     'Author_id':tweet1.id,\n",
        "                     'Username': user.username,\n",
        "                     'Author_description': user.description,\n",
        "                     'Author_location': user.location,\n",
        "                     'Author_followers': user.public_metrics['followers_count'],\n",
        "                     'Author_following_count': user.public_metrics['following_count'],\n",
        "                     'Author_tweet_count': user.public_metrics['tweet_count'],\n",
        "                     'Tweet_content': tweet_data[3],\n",
        "                     'Tweet_URL': tweet_data[4],\n",
        "                     'Author_image_URL': user.profile_image_url\n",
        "                      })\n",
        "df = pd.DataFrame(result)\n",
        "df\n",
        "df.to_csv('/content/drive/MyDrive/Colab Notebooks/DBSE Project/twitterdata.csv')"
      ],
      "metadata": {
        "id": "FHYSJmPyhB3t"
      },
      "execution_count": 53,
      "outputs": []
    },
    {
      "cell_type": "code",
      "source": [],
      "metadata": {
        "id": "wxcrjAwKxZK-"
      },
      "execution_count": 48,
      "outputs": []
    }
  ]
}